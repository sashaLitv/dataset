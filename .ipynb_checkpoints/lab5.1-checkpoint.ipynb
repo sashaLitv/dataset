{
 "cells": [
  {
   "cell_type": "markdown",
   "id": "fec8f639",
   "metadata": {},
   "source": [
    "<center><strong>Частина1<strong></center>"
   ]
  },
  {
   "cell_type": "code",
   "execution_count": 1,
   "id": "e567d4c3-4969-462a-bbe4-2ceba18893f9",
   "metadata": {
    "editable": true,
    "slideshow": {
     "slide_type": ""
    },
    "tags": []
   },
   "outputs": [],
   "source": [
    "from PIL import Image\n",
    "import os\n",
    "import random\n",
    "import numpy as np\n",
    "from sklearn.model_selection import train_test_split"
   ]
  },
  {
   "cell_type": "markdown",
   "id": "92959945",
   "metadata": {},
   "source": [
    "<center>Підготовка даних</center>"
   ]
  },
  {
   "cell_type": "code",
   "execution_count": 2,
   "id": "bb9b8b5d-4205-4260-9b46-ad823806aada",
   "metadata": {
    "editable": true,
    "slideshow": {
     "slide_type": ""
    },
    "tags": []
   },
   "outputs": [],
   "source": [
    "IMG_SIZE = (224, 224)\n",
    "\n",
    "strawberry_images_dir = 'data#1/all/Strawberry'\n",
    "no_strawberry_images_dir = 'data#1/all/NoStrawberry'\n",
    "strawberry_production_images_dir = 'data#1/production/Strawberry'\n",
    "no_strawberry_production_images_dir = 'data#1/production/NoStrawberry'"
   ]
  },
  {
   "cell_type": "code",
   "execution_count": 3,
   "id": "d26be736-978c-43cf-886a-57fd48e5c966",
   "metadata": {
    "editable": true,
    "slideshow": {
     "slide_type": ""
    },
    "tags": []
   },
   "outputs": [],
   "source": [
    "strawberry_images = [os.path.join(strawberry_images_dir, img) for img in os.listdir(strawberry_images_dir)]\n",
    "no_strawberry_images = [os.path.join(no_strawberry_images_dir, img) for img in os.listdir(no_strawberry_images_dir)]\n",
    "\n",
    "strawberry_production_images = [os.path.join(strawberry_production_images_dir, img) for img in os.listdir(strawberry_production_images_dir)]\n",
    "no_strawberry_production_images = [os.path.join(no_strawberry_production_images_dir, img) for img in os.listdir(no_strawberry_production_images_dir)]"
   ]
  },
  {
   "cell_type": "code",
   "execution_count": 4,
   "id": "1757d23e-98aa-454b-b9f0-9a002b7046b5",
   "metadata": {
    "editable": true,
    "slideshow": {
     "slide_type": ""
    },
    "tags": []
   },
   "outputs": [
    {
     "name": "stdout",
     "output_type": "stream",
     "text": [
      "Error processing data#1/all/Strawberry/.DS_Store: cannot identify image file 'data#1/all/Strawberry/.DS_Store'\n",
      "Error processing data#1/all/NoStrawberry/.DS_Store: cannot identify image file 'data#1/all/NoStrawberry/.DS_Store'\n"
     ]
    }
   ],
   "source": [
    "def load_and_preprocess(images):\n",
    "    data =[]\n",
    "    for img_path in images:\n",
    "        try:\n",
    "            img = Image.open(img_path).convert('RGB')\n",
    "            img = img.resize(IMG_SIZE)\n",
    "            data.append(img)\n",
    "        except Exception as e:\n",
    "            print(f\"Error processing {img_path}: {e}\")\n",
    "    return data\n",
    "    \n",
    "strawberry_x = load_and_preprocess(strawberry_images)\n",
    "strawberry_y = np.ones(len(strawberry_x))\n",
    "\n",
    "no_strawberry_x = load_and_preprocess(no_strawberry_images)\n",
    "no_strawberry_y = np.zeros(len(no_strawberry_x))\n",
    "\n",
    "strawberry_production_x = load_and_preprocess(strawberry_production_images)\n",
    "strawberry_production_y = np.ones(len(strawberry_production_x))\n",
    "\n",
    "no_strawberry_production_x = load_and_preprocess(no_strawberry_production_images)\n",
    "no_strawberry_production_y = np.zeros(len(no_strawberry_production_x))"
   ]
  },
  {
   "cell_type": "code",
   "execution_count": 5,
   "id": "12a4e6f2-c0af-49c5-84bb-766f420727a5",
   "metadata": {},
   "outputs": [],
   "source": [
    "x = np.array(strawberry_x + no_strawberry_x)\n",
    "y = np.array(list(strawberry_y) + list(no_strawberry_y))\n",
    "\n",
    "x_production = np.array(strawberry_production_x + no_strawberry_production_x)\n",
    "y_production = np.array(list(strawberry_production_y) + list(no_strawberry_production_y))"
   ]
  },
  {
   "cell_type": "code",
   "execution_count": 6,
   "id": "a936e8ef-c5a7-42ed-9b4a-226be797117c",
   "metadata": {},
   "outputs": [],
   "source": [
    "def standardize_images(images):\n",
    "    mean = np.mean(images)\n",
    "    std = np.std(images)\n",
    "    \n",
    "    standardized_images = (images - mean) / std\n",
    "    \n",
    "    return standardized_images\n",
    "\n",
    "x = standardize_images(x)\n",
    "x_production = standardize_images(x_production)"
   ]
  },
  {
   "cell_type": "code",
   "execution_count": null,
   "id": "a5e6c957-d13f-4434-b84d-ceb14410e199",
   "metadata": {},
   "outputs": [],
   "source": [
    "indices = np.arange(len(x))\n",
    "np.random.shuffle(indices)\n",
    "\n",
    "x = x[indices]\n",
    "y = y[indices]"
   ]
  },
  {
   "cell_type": "code",
   "execution_count": null,
   "id": "3669da95-d82e-4da9-85d9-50e5e1b2b215",
   "metadata": {},
   "outputs": [],
   "source": [
    "x_train, x_temp, y_train, y_temp = train_test_split(x, y, test_size=0.3, random_state=42)\n",
    "x_val, x_test, y_val, y_test = train_test_split(x_temp, y_temp, test_size=0.5, random_state=42)\n",
    "\n",
    "print(\"Train  size:\", len(x_train))\n",
    "print(\"Test  size:\", len(x_test))\n",
    "print(\"Valid size:\", len(x_val))"
   ]
  },
  {
   "cell_type": "markdown",
   "id": "e416a182-ef78-4f45-aacd-35dbd5fe9cf9",
   "metadata": {},
   "source": [
    "<center>Основна частина</center>"
   ]
  },
  {
   "cell_type": "code",
   "execution_count": null,
   "id": "401e0f0a-9841-472c-b03e-a63828d019b3",
   "metadata": {},
   "outputs": [],
   "source": [
    "from tensorflow.keras import layers, models\n",
    "import matplotlib.pyplot as plt\n",
    "from tensorflow.keras.callbacks import EarlyStopping"
   ]
  },
  {
   "cell_type": "code",
   "execution_count": null,
   "id": "4d97591f-646a-4f38-b02e-4a3d4ed09973",
   "metadata": {},
   "outputs": [],
   "source": [
    "cnn1 = models.Sequential()\n",
    "cnn1.add(layers.Input(shape=(IMG_SIZE[0], IMG_SIZE[1], 1))) \n",
    "\n",
    "cnn1.add(layers.Conv2D(32, (3, 3), activation='relu'))\n",
    "cnn1.add(layers.MaxPooling2D((2, 2)))\n",
    "cnn1.add(layers.Conv2D(64, (3, 3), activation='relu'))\n",
    "cnn1.add(layers.MaxPooling2D((2, 2)))\n",
    "cnn1.add(layers.Conv2D(64, (3, 3), activation='relu'))\n",
    "\n",
    "cnn1.add(layers.Flatten())\n",
    "\n",
    "cnn1.add(layers.Dense(120, activation='relu'))\n",
    "cnn1.add(layers.Dense(84, activation='relu'))\n",
    "cnn1.add(layers.Dense(1, activation='sigmoid'))\n",
    "\n",
    "cnn1.summary()"
   ]
  },
  {
   "cell_type": "code",
   "execution_count": null,
   "id": "4bb623ef-afb2-4bd8-bf50-8543dac96644",
   "metadata": {},
   "outputs": [],
   "source": [
    "cnn1.compile(optimizer='adam', loss=\"binary_crossentropy\", metrics=['accuracy'])\n",
    "\n",
    "early_stopping = EarlyStopping(monitor=\"val_loss\", patience=5, restore_best_weights=True)\n",
    "\n",
    "history1 = cnn1.fit(\n",
    "    x_train, \n",
    "    y_train, \n",
    "    epochs=50, \n",
    "    batch_size=32,\n",
    "    validation_data=(x_val, y_val),\n",
    "    callbacks=[early_stopping]\n",
    ")"
   ]
  },
  {
   "cell_type": "code",
   "execution_count": null,
   "id": "ab4f2f57-190e-4e2e-8853-15f2f7945a89",
   "metadata": {},
   "outputs": [],
   "source": [
    "def plot_training_history(history):\n",
    "    fig, axes = plt.subplots(1, 2, figsize=(12, 5))\n",
    "\n",
    "    axes[0].plot(history.history['loss'], label='train loss', color=\"black\")\n",
    "    axes[0].plot(history.history['val_loss'], label='val loss', color=\"red\")\n",
    "    axes[0].set_title('Loss during training')\n",
    "    axes[0].set_xlabel('Epoch')\n",
    "    axes[0].set_ylabel('Loss')\n",
    "    axes[0].legend()\n",
    "\n",
    "    axes[1].plot(history.history['accuracy'], label='train accuracy', color=\"black\")\n",
    "    axes[1].plot(history.history['val_accuracy'], label='val accuracy', color=\"red\")\n",
    "    axes[1].set_title('Accuracy during training')\n",
    "    axes[1].set_xlabel('Epoch')\n",
    "    axes[1].set_ylabel('Accuracy')\n",
    "    axes[1].legend()\n",
    "\n",
    "    plt.tight_layout()\n",
    "    plt.show()"
   ]
  },
  {
   "cell_type": "code",
   "execution_count": null,
   "id": "752b0d49-720e-4d19-85a9-c89518c1b3f3",
   "metadata": {},
   "outputs": [],
   "source": [
    "plot_training_history(history1)"
   ]
  },
  {
   "cell_type": "code",
   "execution_count": null,
   "id": "06129f41-91b0-45d4-9fb8-5232a1efe0ea",
   "metadata": {},
   "outputs": [],
   "source": [
    "predictions1 = cnn1.predict(x_test)\n",
    "y_predicted1 = np.argmax(predictions1, axis=1)\n",
    "accurancy1 = np.mean(y_predicted1 == y_test)\n",
    "\n",
    "predictions2 = cnn1.predict(x_production)\n",
    "y_predicted2 = np.argmax(predictions2, axis=1)\n",
    "accurancy2 = np.mean(y_predicted2 == y_production)"
   ]
  },
  {
   "cell_type": "code",
   "execution_count": null,
   "id": "5a1c3b75-f25b-4a3d-be29-05f6d5e42b6b",
   "metadata": {},
   "outputs": [],
   "source": [
    "print(accurancy1)\n",
    "print(accurancy2)"
   ]
  },
  {
   "cell_type": "code",
   "execution_count": null,
   "id": "3468cf8a-8582-467d-bb3f-74709f4ad57a",
   "metadata": {},
   "outputs": [],
   "source": []
  },
  {
   "cell_type": "code",
   "execution_count": null,
   "id": "d5c45939-63c6-42f7-b26b-765653a76fd9",
   "metadata": {},
   "outputs": [],
   "source": []
  }
 ],
 "metadata": {
  "kernelspec": {
   "display_name": "Python 3 (ipykernel)",
   "language": "python",
   "name": "python3"
  },
  "language_info": {
   "codemirror_mode": {
    "name": "ipython",
    "version": 3
   },
   "file_extension": ".py",
   "mimetype": "text/x-python",
   "name": "python",
   "nbconvert_exporter": "python",
   "pygments_lexer": "ipython3",
   "version": "3.12.9"
  }
 },
 "nbformat": 4,
 "nbformat_minor": 5
}
