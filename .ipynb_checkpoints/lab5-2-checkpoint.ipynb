{
 "cells": [
  {
   "cell_type": "markdown",
   "id": "18194038-0e9e-4045-a85f-75fbf326ce11",
   "metadata": {},
   "source": [
    "<center>Частина2</center>"
   ]
  },
  {
   "cell_type": "code",
   "execution_count": null,
   "id": "09168d86-bee9-4164-a3e2-639c17bf284f",
   "metadata": {},
   "outputs": [],
   "source": [
    "import tensorflow as tf\n",
    "import matplotlib.pyplot as plt\n",
    "import os\n",
    "import math\n",
    "import random\n",
    "from tensorflow.keras.preprocessing.image import ImageDataGenerator, load_img, img_to_array"
   ]
  },
  {
   "cell_type": "markdown",
   "id": "729be432-bfa9-41e6-9426-04a463f892c3",
   "metadata": {},
   "source": [
    "<center>Завантаження та аугментація даних</center>"
   ]
  },
  {
   "cell_type": "code",
   "execution_count": null,
   "id": "0bb07916-d1b4-4167-80c4-d4b441d5a1e2",
   "metadata": {},
   "outputs": [],
   "source": [
    "classes_dir_train = 'data#2/train'\n",
    "classes_dir_test = 'data#2/test'\n",
    "classes_dir_val = 'data#2/val'"
   ]
  },
  {
   "cell_type": "code",
   "execution_count": null,
   "id": "39f480bb-80f9-46a5-9c71-36cf4663e049",
   "metadata": {},
   "outputs": [],
   "source": [
    "# augmented_count = 50\n",
    "# output_format = 'jpg'\n",
    "\n",
    "# datagen = ImageDataGenerator(\n",
    "#     rotation_range=30,         \n",
    "#     width_shift_range=0.15,      \n",
    "#     height_shift_range=0.15,     \n",
    "#     shear_range=0.15,                \n",
    "#     horizontal_flip=True,         \n",
    "#     brightness_range=[0.7, 1.3], \n",
    "#     channel_shift_range=30.0   \n",
    "# )\n",
    "\n",
    "# for class_name in os.listdir(classes_dir_train):\n",
    "#     current_dir = os.path.join(classes_dir_train, class_name)\n",
    "\n",
    "#     if not os.path.isdir(current_dir):\n",
    "#         continue\n",
    "\n",
    "#     files = [file for file in os.listdir(current_dir) if file.lower().endswith(('jpeg', 'jpg', 'png'))]\n",
    "#     selected_files = random.sample(files, min(len(files), augmented_count))\n",
    "\n",
    "#     for current_file in selected_files:\n",
    "#         img_path = os.path.join(current_dir, current_file)\n",
    "#         img = load_img(img_path)\n",
    "#         img_array = img_to_array(img)\n",
    "\n",
    "#         img_array = img_array.reshape((1,) + img_array.shape)\n",
    "\n",
    "#         for batch in datagen.flow(img_array, batch_size=1, save_to_dir=current_dir, save_prefix='aug', save_format=output_format):\n",
    "#             break"
   ]
  },
  {
   "cell_type": "code",
   "execution_count": null,
   "id": "326ae3f3-b803-4f2f-8855-dba26f94b492",
   "metadata": {},
   "outputs": [],
   "source": [
    "IMG_SIZE = (256, 256)\n",
    "SEED = 6\n",
    "BATCH_SIZE = 32\n",
    "def set_seed(seed=42):\n",
    "    os.environ['PYTHONHASHSEED'] = str(seed)\n",
    "    tf.keras.utils.set_random_seed(seed)\n",
    "    tf.config.experimental.enable_op_determinism()\n",
    "    tf.random.set_seed(SEED)\n",
    "\n",
    "set_seed(SEED)"
   ]
  },
  {
   "cell_type": "code",
   "execution_count": null,
   "id": "d741a2e3-73d7-4362-a9f6-43e8235e2f45",
   "metadata": {},
   "outputs": [],
   "source": [
    "train_ds = tf.keras.utils.image_dataset_from_directory(classes_dir_train, image_size = IMG_SIZE, seed=SEED, batch_size=BATCH_SIZE)\n",
    "test_ds = tf.keras.utils.image_dataset_from_directory(classes_dir_test, image_size = IMG_SIZE, seed=SEED, batch_size=BATCH_SIZE)\n",
    "val_ds = tf.keras.utils.image_dataset_from_directory(classes_dir_val, image_size = IMG_SIZE, seed=SEED, batch_size=BATCH_SIZE)"
   ]
  },
  {
   "cell_type": "code",
   "execution_count": null,
   "id": "e44ed242-414a-4b39-bb56-3419b0995505",
   "metadata": {},
   "outputs": [],
   "source": [
    "data_iterator = train_ds.as_numpy_iterator()\n",
    "current_batch = data_iterator.next()\n",
    "\n",
    "def show_some_picture_in_batch(batch, number_of_picture, max_cols=5):\n",
    "    cols = min(number_of_picture, max_cols)\n",
    "    rows = math.ceil(number_of_picture / cols)\n",
    "    fig, axes = plt.subplots(nrows=rows, ncols=cols, figsize=(2*cols, 2*rows))\n",
    "    \n",
    "    if rows == 1:\n",
    "        axes = [axes]\n",
    "    if cols == 1:\n",
    "        axes = [[ax] for ax in axes]\n",
    "    axes = [ax for row in axes for ax in row]  \n",
    "\n",
    "    for idx in range(number_of_picture):\n",
    "        img = batch[0][idx]\n",
    "        label = batch[1][idx]\n",
    "        axes[idx].imshow(img.astype(int))\n",
    "        axes[idx].title.set_text(str(label))\n",
    "        axes[idx].axis('off')\n",
    "\n",
    "    for idx in range(number_of_picture, len(axes)):\n",
    "        axes[idx].axis('off')\n",
    "\n",
    "    plt.tight_layout()\n",
    "    plt.show()\n",
    "    \n",
    "show_some_picture_in_batch(current_batch, 15)"
   ]
  },
  {
   "cell_type": "markdown",
   "id": "04ac1faf-19a5-4426-a2ac-3bd63ad4e555",
   "metadata": {},
   "source": [
    "<center>Попередня обробка даних</center>"
   ]
  },
  {
   "cell_type": "code",
   "execution_count": null,
   "id": "018bb73e-86de-4c2a-98c8-1d2fa1e824a2",
   "metadata": {},
   "outputs": [],
   "source": [
    "train_ds = train_ds.map(lambda x, y: (x / 255.0, y))\n",
    "test_ds = test_ds.map(lambda x, y: (x / 255.0, y))\n",
    "val_ds = val_ds.map(lambda x, y: (x / 255.0, y))"
   ]
  },
  {
   "cell_type": "code",
   "execution_count": null,
   "id": "520390c0-e4fb-4866-a8eb-da9f42b41b0b",
   "metadata": {},
   "outputs": [],
   "source": [
    "def one_hot_encode(image, label):\n",
    "    label = tf.one_hot(label, depth=3)\n",
    "    return image, label\n",
    "\n",
    "train_ds = train_ds.map(one_hot_encode)\n",
    "test_ds = test_ds.map(one_hot_encode)\n",
    "val_ds = val_ds.map(one_hot_encode)"
   ]
  },
  {
   "cell_type": "code",
   "execution_count": null,
   "id": "2b696dce-046c-4be9-9466-8426456c9aa7",
   "metadata": {},
   "outputs": [],
   "source": [
    "total_count = tf.data.experimental.cardinality(train_ds).numpy()\n",
    "print(\"Total count of batches\", total_count)"
   ]
  },
  {
   "cell_type": "markdown",
   "id": "5ee6278c-29b8-419d-8a26-a7fbff4c5d26",
   "metadata": {},
   "source": [
    "<center>Основна частина</center>"
   ]
  },
  {
   "cell_type": "code",
   "execution_count": null,
   "id": "88c751b4-2a69-4b86-9deb-430539987378",
   "metadata": {},
   "outputs": [],
   "source": [
    "from tensorflow.keras.models import Sequential\n",
    "from tensorflow.keras import layers\n",
    "from tensorflow.keras.callbacks import EarlyStopping\n",
    "from tensorflow.keras.layers import Conv2D, MaxPooling2D, Flatten, Dense, Dropout\n",
    "import numpy as np\n",
    "from tensorflow.keras.regularizers import l2"
   ]
  },
  {
   "cell_type": "code",
   "execution_count": null,
   "id": "ac9cb4a3-9a55-4466-8180-9dacdc439ec8",
   "metadata": {},
   "outputs": [],
   "source": [
    "model = Sequential()\n",
    "\n",
    "model.add(layers.Input(shape=(IMG_SIZE[0], IMG_SIZE[1], 3))) \n",
    "\n",
    "model.add(Conv2D(128, (5,5), 1, activation='relu', padding='same', kernel_regularizer=l2(0.001)))\n",
    "model.add(MaxPooling2D())\n",
    "\n",
    "model.add(Conv2D(64, (3,3), 1, activation='relu', padding='same', kernel_regularizer=l2(0.001)))\n",
    "model.add(MaxPooling2D())\n",
    "\n",
    "model.add(Conv2D(32, (3,3), 1, activation='relu', padding='same', kernel_regularizer=l2(0.001)))\n",
    "model.add(MaxPooling2D())\n",
    "\n",
    "model.add(Flatten())\n",
    "\n",
    "model.add(Dense(int(IMG_SIZE[0]), activation='relu'))\n",
    "model.add(Dropout(0.5))\n",
    "model.add(Dense(3, activation='softmax'))\n",
    "\n",
    "model.summary()"
   ]
  },
  {
   "cell_type": "code",
   "execution_count": null,
   "id": "60a102e0-c9c2-4279-810a-48da4974c336",
   "metadata": {},
   "outputs": [],
   "source": [
    "model.compile('adam', loss='categorical_crossentropy', metrics=['accuracy'])\n",
    "early_stopping = EarlyStopping(monitor=\"val_loss\", patience=4, restore_best_weights=True)"
   ]
  },
  {
   "cell_type": "code",
   "execution_count": null,
   "id": "f821ed5f-10f0-4e22-9439-486c4f3a918c",
   "metadata": {
    "scrolled": true
   },
   "outputs": [],
   "source": [
    "history = model.fit(\n",
    "    train_ds, \n",
    "    epochs=30,\n",
    "    validation_data=val_ds,\n",
    "    callbacks=[early_stopping]\n",
    ")"
   ]
  },
  {
   "cell_type": "code",
   "execution_count": null,
   "id": "927ddac4-184f-459e-8c91-67d35adc229b",
   "metadata": {},
   "outputs": [],
   "source": [
    "def plot_training_history(history):\n",
    "    fig, axes = plt.subplots(1, 2, figsize=(12, 5))\n",
    "\n",
    "    axes[0].plot(history.history['loss'], label='train loss', color=\"black\")\n",
    "    axes[0].plot(history.history['val_loss'], label='val loss', color=\"red\")\n",
    "    axes[0].set_title('Loss during training')\n",
    "    axes[0].set_xlabel('Epoch')\n",
    "    axes[0].set_ylabel('Loss')\n",
    "    axes[0].legend()\n",
    "\n",
    "    axes[1].plot(history.history['accuracy'], label='train accuracy', color=\"black\")\n",
    "    axes[1].plot(history.history['val_accuracy'], label='val accuracy', color=\"red\")\n",
    "    axes[1].set_title('Accuracy during training')\n",
    "    axes[1].set_xlabel('Epoch')\n",
    "    axes[1].set_ylabel('Accuracy')\n",
    "    axes[1].legend()\n",
    "\n",
    "    plt.tight_layout()\n",
    "    plt.show()\n",
    "\n",
    "plot_training_history(history)"
   ]
  },
  {
   "cell_type": "code",
   "execution_count": null,
   "id": "d3f8ee0f-0c67-4a58-8d63-6e6c10fe5c11",
   "metadata": {},
   "outputs": [],
   "source": [
    "predictions = model.predict(test_ds)\n",
    "model.evaluate(test_ds)"
   ]
  },
  {
   "cell_type": "markdown",
   "id": "5f5533fb-e7e7-45d8-8e67-c2dcecf0ac22",
   "metadata": {},
   "source": [
    "<center>Результуючий вивід</center>"
   ]
  },
  {
   "cell_type": "code",
   "execution_count": null,
   "id": "3965d650-b5f1-49ce-8795-f2fa37cbc926",
   "metadata": {},
   "outputs": [],
   "source": [
    "from sklearn.metrics import confusion_matrix\n",
    "import seaborn as sns\n",
    "import matplotlib.pyplot as plt\n",
    "from matplotlib.colors import LinearSegmentedColormap"
   ]
  },
  {
   "cell_type": "code",
   "execution_count": null,
   "id": "2090ee67-bcad-4fc4-975f-86ad44c2e9d6",
   "metadata": {},
   "outputs": [],
   "source": [
    "def plot_confusion_matrix(true_classes, predicted_classes, title):\n",
    "    cm = confusion_matrix(true_classes, predicted_classes)\n",
    "\n",
    "    black_cmap = LinearSegmentedColormap.from_list(\"black_white\", [\"white\",\"black\"])\n",
    "\n",
    "    plt.figure(figsize=(10, 8))\n",
    "    sns.heatmap(cm, annot=True, fmt='d', cmap=black_cmap, xticklabels=range(3), yticklabels=range(3))\n",
    "    plt.xlabel(\"Передбачений клас\")\n",
    "    plt.ylabel(\"Cправжній клас\")\n",
    "    plt.title(title)\n",
    "    plt.show()"
   ]
  },
  {
   "cell_type": "code",
   "execution_count": null,
   "id": "452f0552-49fa-4e7f-85e8-88ae2ac462a3",
   "metadata": {},
   "outputs": [],
   "source": [
    "predictions = model.predict(test_ds)\n",
    "predicted_classes = np.argmax(predictions, axis=1)\n",
    "\n",
    "true_classes = []\n",
    "for _, labels in test_ds:\n",
    "    true_classes.extend(np.argmax(labels.numpy(), axis=1)) \n",
    "\n",
    "true_classes = np.array(true_classes)\n",
    "plot_confusion_matrix(true_classes, predicted_classes, \"Матриця плутанини\")"
   ]
  },
  {
   "cell_type": "code",
   "execution_count": null,
   "id": "aa962f77-781c-4b81-a55b-17af09afdf9a",
   "metadata": {},
   "outputs": [],
   "source": []
  },
  {
   "cell_type": "code",
   "execution_count": null,
   "id": "09ad8530-2e7a-4b48-9777-013ee97e91a5",
   "metadata": {},
   "outputs": [],
   "source": []
  }
 ],
 "metadata": {
  "kernelspec": {
   "display_name": "Python 3 (ipykernel)",
   "language": "python",
   "name": "python3"
  },
  "language_info": {
   "codemirror_mode": {
    "name": "ipython",
    "version": 3
   },
   "file_extension": ".py",
   "mimetype": "text/x-python",
   "name": "python",
   "nbconvert_exporter": "python",
   "pygments_lexer": "ipython3",
   "version": "3.12.9"
  }
 },
 "nbformat": 4,
 "nbformat_minor": 5
}
